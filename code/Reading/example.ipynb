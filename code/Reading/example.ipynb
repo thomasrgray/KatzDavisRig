{
 "cells": [
  {
   "cell_type": "code",
   "execution_count": 6,
   "id": "d8709e58-fc4c-462e-ad01-3515d68fe761",
   "metadata": {
    "scrolled": true
   },
   "outputs": [
    {
     "name": "stdout",
     "output_type": "stream",
     "text": [
      "Errors:\n",
      " 2024-09-19 01:21:08.390 python3[88885:2810821] +[CATransaction synchronize] called within transaction\n",
      "2024-09-19 01:21:08.407 python3[88885:2810821] +[CATransaction synchronize] called within transaction\n",
      "2024-09-19 01:21:08.461 python3[88885:2810821] +[CATransaction synchronize] called within transaction\n",
      "2024-09-19 01:21:08.466 python3[88885:2810821] +[CATransaction synchronize] called within transaction\n",
      "2024-09-19 01:21:08.476 python3[88885:2810821] +[CATransaction synchronize] called within transaction\n",
      "2024-09-19 01:21:08.483 python3[88885:2810821] +[CATransaction synchronize] called within transaction\n",
      "2024-09-19 01:21:08.493 python3[88885:2810821] +[CATransaction synchronize] called within transaction\n",
      "2024-09-19 01:21:08.499 python3[88885:2810821] +[CATransaction synchronize] called within transaction\n",
      "2024-09-19 01:21:08.509 python3[88885:2810821] +[CATransaction synchronize] called within transaction\n",
      "2024-09-19 01:21:08.517 python3[88885:2810821] +[CATransaction synchronize] called within transaction\n",
      "2024-09-19 01:21:08.526 python3[88885:2810821] +[CATransaction synchronize] called within transaction\n",
      "2024-09-19 01:21:08.534 python3[88885:2810821] +[CATransaction synchronize] called within transaction\n",
      "2024-09-19 01:21:08.536 python3[88885:2810821] +[CATransaction synchronize] called within transaction\n",
      "2024-09-19 01:21:08.550 python3[88885:2810821] +[CATransaction synchronize] called within transaction\n",
      "2024-09-19 01:21:08.558 python3[88885:2810821] +[CATransaction synchronize] called within transaction\n",
      "2024-09-19 01:21:08.567 python3[88885:2810821] +[CATransaction synchronize] called within transaction\n",
      "2024-09-19 01:21:08.575 python3[88885:2810821] +[CATransaction synchronize] called within transaction\n",
      "2024-09-19 01:21:08.584 python3[88885:2810821] +[CATransaction synchronize] called within transaction\n",
      "2024-09-19 01:21:08.592 python3[88885:2810821] +[CATransaction synchronize] called within transaction\n",
      "2024-09-19 01:21:08.600 python3[88885:2810821] +[CATransaction synchronize] called within transaction\n",
      "2024-09-19 01:21:08.609 python3[88885:2810821] +[CATransaction synchronize] called within transaction\n",
      "2024-09-19 01:21:08.617 python3[88885:2810821] +[CATransaction synchronize] called within transaction\n",
      "2024-09-19 01:21:08.626 python3[88885:2810821] +[CATransaction synchronize] called within transaction\n",
      "2024-09-19 01:21:08.634 python3[88885:2810821] +[CATransaction synchronize] called within transaction\n",
      "2024-09-19 01:21:08.642 python3[88885:2810821] +[CATransaction synchronize] called within transaction\n",
      "2024-09-19 01:21:08.651 python3[88885:2810821] +[CATransaction synchronize] called within transaction\n",
      "\n",
      "Output file not found.\n"
     ]
    }
   ],
   "source": [
    "# Import necessary libraries\n",
    "import subprocess\n",
    "from IPython.display import display, clear_output\n",
    "import pandas as pd\n",
    "import os\n",
    "\n",
    "# Define the path to your script and output file\n",
    "script_path = '/Users/thomasgray/Desktop/KatzDavisRig/code/Reading/BAT_reader.py'\n",
    "output_file_pattern = f\"/Users/thomasgray/Desktop/KatzDavisRig/code/Reading/{pd.Timestamp.today().strftime('%d_%m_%Y')}_grouped_dframe.df\"\n",
    "\n",
    "def run_bat_reader(script_path):\n",
    "    # Clear previous outputs\n",
    "    clear_output(wait=True)\n",
    "    \n",
    "    # Run the BAT_reader.py script\n",
    "    try:\n",
    "        # Ensure the script path is valid\n",
    "        if not os.path.isfile(script_path):\n",
    "            print(f\"Script file not found at: {script_path}\")\n",
    "            return\n",
    "        \n",
    "        # Redirect stdout and stderr\n",
    "        with subprocess.Popen(['python3', script_path], stdout=subprocess.PIPE, stderr=subprocess.PIPE, text=True) as proc:\n",
    "            stdout, stderr = proc.communicate()\n",
    "        \n",
    "        # Print script output and errors\n",
    "        if stdout:\n",
    "            print(\"Script Output:\\n\", stdout)\n",
    "        if stderr:\n",
    "            print(\"Errors:\\n\", stderr)\n",
    "        \n",
    "        # Load and display the resulting dataframe if it exists\n",
    "        if os.path.isfile(output_file_pattern):\n",
    "            df = pd.read_pickle(output_file_pattern)\n",
    "            display(df.head())\n",
    "        else:\n",
    "            print(\"Output file not found.\")\n",
    "    except Exception as e:\n",
    "        print(f\"An error occurred: {e}\")\n",
    "\n",
    "# Run the function\n",
    "run_bat_reader(script_path)\n"
   ]
  },
  {
   "cell_type": "code",
   "execution_count": null,
   "id": "0d1f2377-e11d-45b7-b9b3-f7ad5c824d6e",
   "metadata": {},
   "outputs": [],
   "source": []
  }
 ],
 "metadata": {
  "kernelspec": {
   "display_name": "Python 3 (ipykernel)",
   "language": "python",
   "name": "python3"
  },
  "language_info": {
   "codemirror_mode": {
    "name": "ipython",
    "version": 3
   },
   "file_extension": ".py",
   "mimetype": "text/x-python",
   "name": "python",
   "nbconvert_exporter": "python",
   "pygments_lexer": "ipython3",
   "version": "3.9.12"
  }
 },
 "nbformat": 4,
 "nbformat_minor": 5
}
