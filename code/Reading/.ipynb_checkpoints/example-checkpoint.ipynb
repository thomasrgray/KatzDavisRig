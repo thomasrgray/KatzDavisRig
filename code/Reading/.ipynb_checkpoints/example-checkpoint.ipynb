{
 "cells": [
  {
   "cell_type": "code",
   "execution_count": 3,
   "id": "d8709e58-fc4c-462e-ad01-3515d68fe761",
   "metadata": {},
   "outputs": [
    {
     "name": "stdout",
     "output_type": "stream",
     "text": [
      "Script Output:\n",
      " \n",
      "Errors:\n",
      " 2024-09-19 01:18:02.919 python3[88755:2807800] +[CATransaction synchronize] called within transaction\n",
      "2024-09-19 01:18:02.929 python3[88755:2807800] +[CATransaction synchronize] called within transaction\n",
      "2024-09-19 01:18:02.965 python3[88755:2807800] +[CATransaction synchronize] called within transaction\n",
      "2024-09-19 01:18:02.972 python3[88755:2807800] +[CATransaction synchronize] called within transaction\n",
      "2024-09-19 01:18:02.981 python3[88755:2807800] +[CATransaction synchronize] called within transaction\n",
      "2024-09-19 01:18:02.988 python3[88755:2807800] +[CATransaction synchronize] called within transaction\n",
      "2024-09-19 01:18:02.997 python3[88755:2807800] +[CATransaction synchronize] called within transaction\n",
      "2024-09-19 01:18:03.005 python3[88755:2807800] +[CATransaction synchronize] called within transaction\n",
      "2024-09-19 01:18:03.014 python3[88755:2807800] +[CATransaction synchronize] called within transaction\n",
      "2024-09-19 01:18:03.022 python3[88755:2807800] +[CATransaction synchronize] called within transaction\n",
      "2024-09-19 01:18:03.030 python3[88755:2807800] +[CATransaction synchronize] called within transaction\n",
      "2024-09-19 01:18:03.039 python3[88755:2807800] +[CATransaction synchronize] called within transaction\n",
      "2024-09-19 01:18:03.047 python3[88755:2807800] +[CATransaction synchronize] called within transaction\n",
      "2024-09-19 01:18:03.054 python3[88755:2807800] +[CATransaction synchronize] called within transaction\n",
      "2024-09-19 01:18:03.064 python3[88755:2807800] +[CATransaction synchronize] called within transaction\n",
      "2024-09-19 01:18:03.071 python3[88755:2807800] +[CATransaction synchronize] called within transaction\n",
      "2024-09-19 01:18:03.081 python3[88755:2807800] +[CATransaction synchronize] called within transaction\n",
      "2024-09-19 01:18:03.087 python3[88755:2807800] +[CATransaction synchronize] called within transaction\n",
      "2024-09-19 01:18:03.097 python3[88755:2807800] +[CATransaction synchronize] called within transaction\n",
      "2024-09-19 01:18:03.100 python3[88755:2807800] +[CATransaction synchronize] called within transaction\n",
      "2024-09-19 01:18:03.110 python3[88755:2807800] +[CATransaction synchronize] called within transaction\n",
      "2024-09-19 01:18:03.113 python3[88755:2807800] +[CATransaction synchronize] called within transaction\n",
      "2024-09-19 01:18:03.121 python3[88755:2807800] +[CATransaction synchronize] called within transaction\n",
      "2024-09-19 01:18:03.141 python3[88755:2807800] +[CATransaction synchronize] called within transaction\n",
      "2024-09-19 01:18:03.146 python3[88755:2807800] +[CATransaction synchronize] called within transaction\n",
      "2024-09-19 01:18:03.156 python3[88755:2807800] +[CATransaction synchronize] called within transaction\n",
      "2024-09-19 01:18:03.163 python3[88755:2807800] +[CATransaction synchronize] called within transaction\n",
      "2024-09-19 01:18:03.172 python3[88755:2807800] +[CATransaction synchronize] called within transaction\n",
      "2024-09-19 01:18:03.180 python3[88755:2807800] +[CATransaction synchronize] called within transaction\n",
      "\n",
      "Output file not found.\n"
     ]
    }
   ],
   "source": [
    "# Import necessary libraries\n",
    "import subprocess\n",
    "from IPython.display import display, clear_output\n",
    "import pandas as pd\n",
    "import os\n",
    "\n",
    "# Define the path to your script and output file\n",
    "script_path = '/Users/thomasgray/Desktop/KatzDavisRig/code/Reading/BAT_reader.py'  # Update this with the full path to your script\n",
    "output_file_pattern = f\"{pd.Timestamp.today().strftime('%d_%m_%Y')}_grouped_dframe.df\"\n",
    "\n",
    "def run_bat_reader(script_path):\n",
    "    # Clear previous outputs\n",
    "    clear_output(wait=True)\n",
    "    \n",
    "    # Run the BAT_reader.py script\n",
    "    try:\n",
    "        # Ensure the script path is valid\n",
    "        if not os.path.isfile(script_path):\n",
    "            print(f\"Script file not found at: {script_path}\")\n",
    "            return\n",
    "        \n",
    "        result = subprocess.run(['python3', script_path], capture_output=True, text=True)\n",
    "        print(\"Script Output:\\n\", result.stdout)\n",
    "        if result.stderr:\n",
    "            print(\"Errors:\\n\", result.stderr)\n",
    "        \n",
    "        # Load and display the resulting dataframe if it exists\n",
    "        if os.path.isfile(output_file_pattern):\n",
    "            df = pd.read_pickle(output_file_pattern)\n",
    "            display(df.head())\n",
    "        else:\n",
    "            print(\"Output file not found.\")\n",
    "    except Exception as e:\n",
    "        print(f\"An error occurred: {e}\")\n",
    "\n",
    "# Run the function\n",
    "run_bat_reader(script_path)"
   ]
  },
  {
   "cell_type": "code",
   "execution_count": null,
   "id": "0d1f2377-e11d-45b7-b9b3-f7ad5c824d6e",
   "metadata": {},
   "outputs": [],
   "source": []
  }
 ],
 "metadata": {
  "kernelspec": {
   "display_name": "Python 3 (ipykernel)",
   "language": "python",
   "name": "python3"
  },
  "language_info": {
   "codemirror_mode": {
    "name": "ipython",
    "version": 3
   },
   "file_extension": ".py",
   "mimetype": "text/x-python",
   "name": "python",
   "nbconvert_exporter": "python",
   "pygments_lexer": "ipython3",
   "version": "3.9.12"
  }
 },
 "nbformat": 4,
 "nbformat_minor": 5
}
